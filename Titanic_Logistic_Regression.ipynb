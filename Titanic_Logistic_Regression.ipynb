{
 "cells": [
  {
   "cell_type": "code",
   "execution_count": 412,
   "metadata": {
    "collapsed": false
   },
   "outputs": [
    {
     "name": "stdout",
     "output_type": "stream",
     "text": [
      "[[1 3 'Braund, Mr. Owen Harris' ..., 7.25 nan 'S']\n",
      " [2 1 'Cumings, Mrs. John Bradley (Florence Briggs Thayer)' ..., 71.2833\n",
      "  'C85' 'C']\n",
      " [3 3 'Heikkinen, Miss. Laina' ..., 7.925 nan 'S']\n",
      " ..., \n",
      " [889 3 'Johnston, Miss. Catherine Helen \"Carrie\"' ..., 23.45 nan 'S']\n",
      " [890 1 'Behr, Mr. Karl Howell' ..., 30.0 'C148' 'C']\n",
      " [891 3 'Dooley, Mr. Patrick' ..., 7.75 nan 'Q']]\n"
     ]
    }
   ],
   "source": [
    "import pandas as pd\n",
    "import scipy.stats  as stats\n",
    "import numpy as np\n",
    "import math as mt\n",
    "\n",
    "df_train = pd.read_csv('train.csv',header=0)\n",
    "df_test  = pd.read_csv('test.csv',header=0)\n",
    "\n",
    "\n",
    "# df_train.drop('Name', axis=1, inplace=True)\n",
    "df_train.drop('Ticket', axis=1, inplace=True)\n",
    "\n",
    "# print(df_train)\n",
    "\n",
    "Y = df_train.as_matrix()\n",
    "Y = Y[:,1:2]\n",
    "# print(Y)\n",
    "df_train.drop('Survived', axis=1, inplace=True)\n",
    "X = df_train.values\n",
    "print(X)\n",
    "X[df_train.values[:,3] == 'male',3] = 1\n",
    "X[df_train.values[:,3] == 'female',3] = 0\n",
    "X[df_train.values[:,9] == 'S',9] = 1\n",
    "X[df_train.values[:,9] == 'C',9] = 2\n",
    "X[df_train.values[:,9] == 'Q',9] = 3\n",
    "\n",
    "\n",
    "\n",
    "for i in range (len(X.T[4])):\n",
    "    X[i,2] = len(df_train.values[i,2])\n",
    "    if pd.isnull(X[i,8]) == True:\n",
    "        X[i,8] = 0\n",
    "    else:\n",
    "         X[i,8] = X[i,8].split()[0][0]\n",
    "    if mt.isnan(X[i,4]) == True:\n",
    "        X[i,4] = 0\n",
    "    if pd.isnull(X[i,9]) == True:\n",
    "        X[i,9] = 0\n",
    "\n",
    "X[X[:,8] == 'A',8] = 1\n",
    "X[X[:,8] == 'B',8] = 2\n",
    "X[X[:,8] == 'C',8] = 3\n",
    "X[X[:,8] == 'D',8] = 4\n",
    "X[X[:,8] == 'E',8] = 5\n",
    "X[X[:,8] == 'F',8] = 6\n",
    "X[X[:,8] == 'G',8] = 7\n",
    "X[X[:,8] == 'T',8] = 8\n",
    "\n",
    "X = X[:,1:10]\n",
    "W = np.array([[1],[1],[1],[1],[1],[1],[1],[1],[1]])\n",
    "\n",
    "# print(X[0:30,:])\n",
    "\n",
    "# W\n",
    "# print(\"PassengerId: \", df_train.Embarked.unique())\n"
   ]
  },
  {
   "cell_type": "code",
   "execution_count": 413,
   "metadata": {
    "collapsed": false
   },
   "outputs": [
    {
     "name": "stdout",
     "output_type": "stream",
     "text": [
      "Total error is  235.52627943319152\n",
      "Success rate is  0.7362514029180696\n"
     ]
    }
   ],
   "source": [
    "def sigmoid(x):\n",
    "    return np.exp(x)/(1+np.exp(x))\n",
    "\n",
    "eta = 0.00005\n",
    "#print(W)\n",
    "MAX_ITER = 50000\n",
    "for epoch in range(MAX_ITER):\n",
    "    dL = np.dot(X.T, Y.astype(np.float)-sigmoid(np.dot(X,W).astype(np.float)))\n",
    "    #print(sigmoid(np.dot(X,W).astype(np.float)))\n",
    "    #print(dL)\n",
    "    W = W + eta*dL\n",
    "    #print(W.transpose())\n",
    "\n",
    "a,j,k = 0, 0, 0  \n",
    "#print(Y[1].astype(np.float))\n",
    "for i in range (len(Y)):          \n",
    "    j += mt.fabs(Y[i] - sigmoid(np.dot(X[i],W).astype(np.float)))  \n",
    "    if sigmoid(np.dot(X[i],W).astype(np.float)) >= 0.5:\n",
    "        a = 1\n",
    "    else:\n",
    "        a = 0\n",
    "    if a == Y[i]:\n",
    "        k += 1\n",
    "\n",
    "print(\"Total error is \", j)\n",
    "print(\"Success rate is \", k / len(Y))"
   ]
  },
  {
   "cell_type": "code",
   "execution_count": null,
   "metadata": {
    "collapsed": true
   },
   "outputs": [],
   "source": []
  },
  {
   "cell_type": "code",
   "execution_count": null,
   "metadata": {
    "collapsed": true
   },
   "outputs": [],
   "source": []
  },
  {
   "cell_type": "code",
   "execution_count": null,
   "metadata": {
    "collapsed": true
   },
   "outputs": [],
   "source": []
  }
 ],
 "metadata": {
  "kernelspec": {
   "display_name": "Python 3",
   "language": "python",
   "name": "python3"
  },
  "language_info": {
   "codemirror_mode": {
    "name": "ipython",
    "version": 3
   },
   "file_extension": ".py",
   "mimetype": "text/x-python",
   "name": "python",
   "nbconvert_exporter": "python",
   "pygments_lexer": "ipython3",
   "version": "3.6.0"
  }
 },
 "nbformat": 4,
 "nbformat_minor": 2
}
