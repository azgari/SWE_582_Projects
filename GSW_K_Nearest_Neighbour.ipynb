{
 "cells": [
  {
   "cell_type": "code",
   "execution_count": 53,
   "metadata": {},
   "outputs": [
    {
     "name": "stdout",
     "output_type": "stream",
     "text": [
      "a\n",
      "b\n"
     ]
    }
   ],
   "source": [
    "import numpy as np\n",
    "import torch.nn as nn\n",
    "from PIL import Image\n",
    "import glob\n",
    "import torch\n",
    "from torch.autograd import Variable\n",
    "import torch.nn.functional as F\n",
    "import pandas as pd\n",
    "import math\n",
    "import collections\n",
    "\n",
    "N = 6283\n",
    "D_in = 400\n",
    "D_in2 = 20\n",
    "H = 100\n",
    "D_out = 62\n",
    "\n",
    "x_list = []\n",
    "x_data = np.zeros([N, D_in])\n",
    "x_data2 = np.zeros([N, 1, D_in2, D_in2])\n",
    "y_data = np.zeros([N, D_out])\n",
    "y_data2 = np.zeros([N])\n",
    "\n",
    "print(\"a\")\n",
    "\n",
    "#Reading images into numpy array. All images are stored as a row with 20*20 = 400 columns on x_data np array.\n",
    "\n",
    "for img_id in range(N + 1):\n",
    "    for filename in glob.glob(\"C:\\\\Users\\\\ahmetcan\\\\Documents\\\\SWE\\\\SWE 582\\\\Google Street View\\\\trainResized\\\\\" \n",
    "                              + str(img_id) + \".bmp\"):\n",
    "        im=Image.open(filename)\n",
    "        pix = np.array(im)\n",
    "        \n",
    "        if len(pix.shape) > 2:\n",
    "            pix2 = pix.mean(2)\n",
    "            pix3 = pix2.reshape((1, D_in))\n",
    "            x_data2[img_id - 1, 0, :, :] = pix2\n",
    "        else:\n",
    "            pix3 = pix.reshape((1, D_in))\n",
    "            x_data2[img_id - 1, 0, :, :] = pix\n",
    "            \n",
    "        x_list.append(pix3)\n",
    "        x_data[img_id - 1] = pix3\n",
    "\n",
    "print(\"b\")"
   ]
  },
  {
   "cell_type": "code",
   "execution_count": 54,
   "metadata": {},
   "outputs": [
    {
     "data": {
      "text/plain": [
       "array([ 49.,   8.,  29., ...,  25.,  23.,  27.])"
      ]
     },
     "execution_count": 54,
     "metadata": {},
     "output_type": "execute_result"
    }
   ],
   "source": [
    "#The labels of the images are converted to integers.\n",
    "\n",
    "def conv_lbl_to_int(a):\n",
    "    if a.islower():\n",
    "        return ord(a) - 61\n",
    "    elif a.isnumeric():\n",
    "        return int(a)\n",
    "    else:\n",
    "        return ord(a) - 55\n",
    "    \n",
    "df_labels = pd.read_csv('trainLabels.csv',header=0)\n",
    "\n",
    "for index, row in df_labels.iterrows():\n",
    "    if index < N:\n",
    "        y_data2[index] = conv_lbl_to_int(row['Class'])\n",
    "\n",
    "y_data2"
   ]
  },
  {
   "cell_type": "code",
   "execution_count": 57,
   "metadata": {},
   "outputs": [
    {
     "name": "stdout",
     "output_type": "stream",
     "text": [
      "(5000, 400)\n",
      "(1283, 400)\n",
      "(5000,)\n",
      "(1283,)\n"
     ]
    }
   ],
   "source": [
    "x_data.shape\n",
    "\n",
    "train_size = 5000\n",
    "\n",
    "#The train size is determined and the whole training data is divided into training and test sets.\n",
    "\n",
    "x_trn_data = x_data[: train_size, :]\n",
    "x_tst_data = x_data[train_size: , :]\n",
    "\n",
    "y_trn_data = y_data2[: train_size]\n",
    "y_tst_data = y_data2[train_size:]\n",
    "\n",
    "print(x_trn_data.shape)\n",
    "print(x_tst_data.shape)\n",
    "\n",
    "print(y_trn_data.shape)\n",
    "print(y_tst_data.shape)"
   ]
  },
  {
   "cell_type": "code",
   "execution_count": 58,
   "metadata": {},
   "outputs": [
    {
     "name": "stdout",
     "output_type": "stream",
     "text": [
      "K:  1\n",
      "success:  507\n",
      "size 1283\n",
      "success rate:  0.3951675759937646\n",
      "K:  2\n",
      "success:  507\n",
      "size 1283\n",
      "success rate:  0.3951675759937646\n",
      "K:  3\n",
      "success:  507\n",
      "size 1283\n",
      "success rate:  0.3951675759937646\n",
      "K:  4\n",
      "success:  499\n",
      "size 1283\n",
      "success rate:  0.38893219017926733\n",
      "K:  5\n",
      "success:  489\n",
      "size 1283\n",
      "success rate:  0.38113795791114574\n",
      "end\n"
     ]
    }
   ],
   "source": [
    "#K = 3\n",
    "\n",
    "#Trying to find the best K value for KNN.\n",
    "\n",
    "for K in range(1, 6):\n",
    "    success = 0\n",
    "    for i in range(N - train_size):\n",
    "        nn = np.zeros([K])\n",
    "        distances = np.sqrt(np.sum(np.square(x_trn_data - x_tst_data[i,:]), axis = 1))\n",
    "        #print(i)\n",
    "        #print(np.square(x_trn_data - x_tst_data[i,:]))\n",
    "        knn_idx = np.argsort(distances)[:K]\n",
    "        #print(\"knn_idx\", knn_idx)\n",
    "        for j in range(K):\n",
    "            #print(y_trn_data[knn_idx[j]])\n",
    "            nn[j] = y_trn_data[knn_idx[j]]\n",
    "        unique, counts = np.unique(nn, return_counts=True)\n",
    "        #print(\"counts: \",dict(zip(unique, counts)))\n",
    "        #print(\"unique\", unique)  \n",
    "        #print(\"nn\", nn)  \n",
    "        #print(\"result\")\n",
    "        if np.amax(counts) == 1:\n",
    "            guess = nn[0]\n",
    "            #print(nn[0])\n",
    "        else:\n",
    "            guess = unique[np.argmax(counts)]\n",
    "            #print()\n",
    "        \n",
    "        if guess == y_tst_data[i]:\n",
    "            success = success + 1\n",
    "    print(\"K: \", K)\n",
    "    print(\"success: \", success)\n",
    "    print(\"size\", N - train_size)\n",
    "    print(\"success rate: \", success / (N - train_size))\n",
    "        \n",
    "    #unique, counts = numpy.unique(a, return_counts=True)\n",
    "    #dict(zip(unique, counts))\n",
    "print(\"end\")"
   ]
  }
 ],
 "metadata": {
  "kernelspec": {
   "display_name": "Python 3",
   "language": "python",
   "name": "python3"
  },
  "language_info": {
   "codemirror_mode": {
    "name": "ipython",
    "version": 3
   },
   "file_extension": ".py",
   "mimetype": "text/x-python",
   "name": "python",
   "nbconvert_exporter": "python",
   "pygments_lexer": "ipython3",
   "version": "3.6.2"
  }
 },
 "nbformat": 4,
 "nbformat_minor": 2
}
